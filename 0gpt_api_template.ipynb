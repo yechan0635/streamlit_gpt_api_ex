{
 "cells": [
  {
   "cell_type": "markdown",
   "id": "bf2e4431",
   "metadata": {},
   "source": [
    "# openai api key 테스트"
   ]
  },
  {
   "cell_type": "code",
   "execution_count": 4,
   "id": "7de6de29",
   "metadata": {},
   "outputs": [],
   "source": [
    "import os\n",
    "from dotenv import load_dotenv\n",
    "\n",
    "# .env 파일에 저장된 환경변수 로드\n",
    "load_dotenv(override=True)\n",
    "OPENAI_API_KEY = os.getenv(\"OPENAI_API_KEY\")"
   ]
  },
  {
   "cell_type": "markdown",
   "id": "25f3367d",
   "metadata": {},
   "source": [
    "## 라이브러리 로딩 및 객체 생성"
   ]
  },
  {
   "cell_type": "code",
   "execution_count": 5,
   "id": "47d683ea",
   "metadata": {},
   "outputs": [],
   "source": [
    "from openai import OpenAI\n",
    "\n",
    "# openai api 인증 및 openai 객체 생성\n",
    "client = OpenAI(api_key=OPENAI_API_KEY)"
   ]
  },
  {
   "cell_type": "code",
   "execution_count": 7,
   "id": "49ba1d9e",
   "metadata": {},
   "outputs": [
    {
     "name": "stdout",
     "output_type": "stream",
     "text": [
      "ChatCompletionMessage(content='현재 전 세계적으로 가장 많이 사용되는 프로그래밍 언어는 여러 양상이 있지만, 주로 사용되는 몇 가지 언어들은 다음과 같습니다:\\n\\n1. 자바스크립트 (JavaScript): 웹 개발을 위한 프론트엔드와 백엔드 개발에서 널리 사용됩니다.\\n2. 파이썬 (Python): 데이터 과학, 인공지능, 웹 개발, 자동화, 시스템 관리 등 다양한 분야에서 널리 사용됩니다.\\n3. 자바 (Java): 엔터프라이즈 소프트웨어, 모바일 앱 개발, 웹 애플리케이션 개발 등에서 널리 사용됩니다.\\n4. C#: 윈도우 애플리케이션 개발, 게임 개발 등에 많이 사용됩니다.\\n5. SQL: 데이터베이스 관리와 쿼리 작성을 위한 언어로 널리 사용됩니다.\\n\\n이외에도 많은 프로그래밍 언어들이 사용되고 있지만, 위 언어들은 현재 전 세계적으로 많이 사용되는 언어들 중 일부입니다.', refusal=None, role='assistant', annotations=[], audio=None, function_call=None, tool_calls=None)\n"
     ]
    }
   ],
   "source": [
    "completion = client.chat.completions.create(\n",
    "    model=\"gpt-3.5-turbo\",\n",
    "    messages=[\n",
    "        {\"role\": \"system\", \"content\": \"너는 IT전문가야.\"},\n",
    "        {\"role\": \"user\", \"content\": \"전 세계에서 가장 많이 사용하는 프로그래밍 언어는 뭐야?\"}\n",
    "    ]\n",
    ")\n",
    "\n",
    "# 결과 출력\n",
    "print(completion.choices[0].message)"
   ]
  },
  {
   "cell_type": "code",
   "execution_count": null,
   "id": "7704a461",
   "metadata": {},
   "outputs": [],
   "source": []
  }
 ],
 "metadata": {
  "kernelspec": {
   "display_name": "gpt_env",
   "language": "python",
   "name": "python3"
  },
  "language_info": {
   "codemirror_mode": {
    "name": "ipython",
    "version": 3
   },
   "file_extension": ".py",
   "mimetype": "text/x-python",
   "name": "python",
   "nbconvert_exporter": "python",
   "pygments_lexer": "ipython3",
   "version": "3.12.12"
  }
 },
 "nbformat": 4,
 "nbformat_minor": 5
}
